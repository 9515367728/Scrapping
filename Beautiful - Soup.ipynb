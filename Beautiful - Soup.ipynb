{
 "cells": [
  {
   "cell_type": "code",
   "execution_count": 4,
   "metadata": {},
   "outputs": [],
   "source": [
    "import requests\n",
    "from bs4 import BeautifulSoup as bs"
   ]
  },
  {
   "cell_type": "code",
   "execution_count": 10,
   "metadata": {},
   "outputs": [],
   "source": [
    "result = requests.get('https://www.google.com')"
   ]
  },
  {
   "cell_type": "code",
   "execution_count": 7,
   "metadata": {},
   "outputs": [
    {
     "data": {
      "text/plain": [
       "200"
      ]
     },
     "execution_count": 7,
     "metadata": {},
     "output_type": "execute_result"
    }
   ],
   "source": [
    "result.status_code"
   ]
  },
  {
   "cell_type": "code",
   "execution_count": 15,
   "metadata": {},
   "outputs": [
    {
     "data": {
      "text/plain": [
       "{'Date': 'Tue, 09 Jun 2020 08:34:18 GMT', 'Expires': '-1', 'Cache-Control': 'private, max-age=0', 'Content-Type': 'text/html; charset=ISO-8859-1', 'P3P': 'CP=\"This is not a P3P policy! See g.co/p3phelp for more info.\"', 'Content-Encoding': 'gzip', 'Server': 'gws', 'X-XSS-Protection': '0', 'X-Frame-Options': 'SAMEORIGIN', 'Set-Cookie': '1P_JAR=2020-06-09-08; expires=Thu, 09-Jul-2020 08:34:18 GMT; path=/; domain=.google.com; Secure, NID=204=votOYHzDXQPJ9I3wPaSDAgWe8wsBbS8fD2iT6_2a35iobrJJYaq8Af_zvFJcdNTqnP_0ygs97BU1ROMy2lnoaBVqOuzSxgesKqzEpCClQ7bKpNvaVwg9Hkf77O8z24-_o_yRlr_Cz62HYE688xeaHdj26cJy29kmEokjEA3dHu0; expires=Wed, 09-Dec-2020 08:34:18 GMT; path=/; domain=.google.com; HttpOnly', 'Alt-Svc': 'h3-27=\":443\"; ma=2592000,h3-25=\":443\"; ma=2592000,h3-T050=\":443\"; ma=2592000,h3-Q050=\":443\"; ma=2592000,h3-Q049=\":443\"; ma=2592000,h3-Q048=\":443\"; ma=2592000,h3-Q046=\":443\"; ma=2592000,h3-Q043=\":443\"; ma=2592000,quic=\":443\"; ma=2592000; v=\"46,43\"', 'Transfer-Encoding': 'chunked'}"
      ]
     },
     "execution_count": 15,
     "metadata": {},
     "output_type": "execute_result"
    }
   ],
   "source": [
    "#Headers \n",
    "result.headers"
   ]
  },
  {
   "cell_type": "code",
   "execution_count": 20,
   "metadata": {},
   "outputs": [],
   "source": [
    "src = result.content"
   ]
  },
  {
   "cell_type": "code",
   "execution_count": 21,
   "metadata": {},
   "outputs": [
    {
     "data": {
      "text/plain": [
       "<!DOCTYPE html>\n",
       "<html itemscope=\"\" itemtype=\"http://schema.org/WebPage\" lang=\"en-IN\"><head><meta content=\"text/html; charset=utf-8\" http-equiv=\"Content-Type\"/><meta content=\"/images/branding/googleg/1x/googleg_standard_color_128dp.png\" itemprop=\"image\"/><title>Google</title><script nonce=\"Pm9NlYGN9h9m8b5LaB8bFw==\">(function(){window.google={kEI:'iknfXtjsDpub4-EPopuNwA0',kEXPI:'0,202123,3,4,32,1151585,5662,730,224,5104,207,3204,10,1226,364,1499,576,127,114,383,246,5,960,394,196,842,112,11,531,2,97,176,945,966,137,95,145,42,117,3,165,1123184,1197774,375,78,329040,1294,12383,4855,32691,15248,861,17450,11240,9188,8384,4858,1362,9290,3021,3897,857,11026,1808,1960,2060,978,4784,1,1457,1689,5297,2054,920,873,1217,8989,1,415,1141,7512,2653,3221,4518,1396,1381,919,2277,8,85,2711,885,708,1165,114,2212,530,149,1943,517,1137,278,107,158,4100,109,203,1132,4,3,2669,1839,184,1777,143,377,1946,2230,93,328,1284,16,2927,2246,474,1339,748,1039,604,2623,1989,856,7,6068,6286,4454,642,2449,2459,1226,1743,3653,1275,108,591,1119,1697,908,2,941,552,420,1642,2397,5419,2051,840,1337,1098,3,576,970,865,7,371,3540,706,149,189,3313,502,1,1986,27,130,1,2093,3989,1093,81,570,4,1528,17,924,353,1010,1238,269,618,256,395,2,8,41,1798,21,177,69,199,1650,331,41,800,917,9,43,76,4,134,520,682,1884,43,77,1222,213,4,495,640,591,1321,273,742,252,427,1587,86,3,585,20,147,741,237,1025,525,1426,69,24,70,211,533,95,419,267,414,217,328,37,42,328,230,623,82,209,286,507,1,245,201,57,939,2,1,1,830,3,440,2,39,241,244,1243,426,2,27,895,1,3,52,33,396,2,99,485,3,175,5803528,1805894,6996022,549,333,444,1,2,80,1,900,896,1,8,1,2,2551,1,748,141,59,736,563,1,4265,1,1,1,1,137,1,879,9,305,2522,98,26,2,7,1,2,1,3389619,17352106,3220020,40',kBL:'P2-H'};google.sn='webhp';google.kHL='en-IN';})();(function(){google.lc=[];google.li=0;google.getEI=function(a){for(var c;a&&(!a.getAttribute||!(c=a.getAttribute(\"eid\")));)a=a.parentNode;return c||google.kEI};google.getLEI=function(a){for(var c=null;a&&(!a.getAttribute||!(c=a.getAttribute(\"leid\")));)a=a.parentNode;return c};google.ml=function(){return null};google.time=function(){return Date.now()};google.log=function(a,c,b,d,g){if(b=google.logUrl(a,c,b,d,g)){a=new Image;var e=google.lc,f=google.li;e[f]=a;a.onerror=a.onload=a.onabort=function(){delete e[f]};google.vel&&google.vel.lu&&google.vel.lu(b);a.src=b;google.li=f+1}};google.logUrl=function(a,c,b,d,g){var e=\"\",f=google.ls||\"\";b||-1!=c.search(\"&ei=\")||(e=\"&ei=\"+google.getEI(d),-1==c.search(\"&lei=\")&&(d=google.getLEI(d))&&(e+=\"&lei=\"+d));d=\"\";!b&&google.cshid&&-1==c.search(\"&cshid=\")&&\"slh\"!=a&&(d=\"&cshid=\"+google.cshid);b=b||\"/\"+(g||\"gen_204\")+\"?atyp=i&ct=\"+a+\"&cad=\"+c+e+f+\"&zx=\"+google.time()+d;/^http:/i.test(b)&&\"https:\"==window.location.protocol&&(google.ml(Error(\"a\"),!1,{src:b,glmm:1}),b=\"\");return b};}).call(this);(function(){google.y={};google.x=function(a,b){if(a)var c=a.id;else{do c=Math.random();while(google.y[c])}google.y[c]=[a,b];return!1};google.lm=[];google.plm=function(a){google.lm.push.apply(google.lm,a)};google.lq=[];google.load=function(a,b,c){google.lq.push([[a],b,c])};google.loadAll=function(a,b){google.lq.push([a,b])};}).call(this);google.f={};(function(){\n",
       "document.documentElement.addEventListener(\"submit\",function(b){var a;if(a=b.target){var c=a.getAttribute(\"data-submitfalse\");a=\"1\"==c||\"q\"==c&&!a.elements.q.value?!0:!1}else a=!1;a&&(b.preventDefault(),b.stopPropagation())},!0);document.documentElement.addEventListener(\"click\",function(b){var a;a:{for(a=b.target;a&&a!=document.documentElement;a=a.parentElement)if(\"A\"==a.tagName){a=\"1\"==a.getAttribute(\"data-nohref\");break a}a=!1}a&&b.preventDefault()},!0);}).call(this);\n",
       "var a=window.location,b=a.href.indexOf(\"#\");if(0<=b){var c=a.href.substring(b+1);/(^|&)q=/.test(c)&&-1==c.indexOf(\"#\")&&a.replace(\"/search?\"+c.replace(/(^|&)fp=[^&]*/g,\"\")+\"&cad=h\")};</script><style>#gbar,#guser{font-size:13px;padding-top:1px !important;}#gbar{height:22px}#guser{padding-bottom:7px !important;text-align:right}.gbh,.gbd{border-top:1px solid #c9d7f1;font-size:1px}.gbh{height:0;position:absolute;top:24px;width:100%}@media all{.gb1{height:22px;margin-right:.5em;vertical-align:top}#gbar{float:left}}a.gb1,a.gb4{text-decoration:underline !important}a.gb1,a.gb4{color:#00c !important}.gbi .gb4{color:#dd8e27 !important}.gbf .gb4{color:#900 !important}\n",
       "</style><style>body,td,a,p,.h{font-family:arial,sans-serif}body{margin:0;overflow-y:scroll}#gog{padding:3px 8px 0}td{line-height:.8em}.gac_m td{line-height:17px}form{margin-bottom:20px}.h{color:#36c}.q{color:#00c}.ts td{padding:0}.ts{border-collapse:collapse}em{font-weight:bold;font-style:normal}.lst{height:25px;width:496px}.gsfi,.lst{font:18px arial,sans-serif}.gsfs{font:17px arial,sans-serif}.ds{display:inline-box;display:inline-block;margin:3px 0 4px;margin-left:4px}input{font-family:inherit}body{background:#fff;color:#000}a{color:#11c;text-decoration:none}a:hover,a:active{text-decoration:underline}.fl a{color:#36c}a:visited{color:#551a8b}.sblc{padding-top:5px}.sblc a{display:block;margin:2px 0;margin-left:13px;font-size:11px}.lsbb{background:#eee;border:solid 1px;border-color:#ccc #999 #999 #ccc;height:30px}.lsbb{display:block}.ftl,#fll a{display:inline-block;margin:0 12px}.lsb{background:url(/images/nav_logo229.png) 0 -261px repeat-x;border:none;color:#000;cursor:pointer;height:30px;margin:0;outline:0;font:15px arial,sans-serif;vertical-align:top}.lsb:active{background:#ccc}.lst:focus{outline:none}</style><script nonce=\"Pm9NlYGN9h9m8b5LaB8bFw==\"></script></head><body bgcolor=\"#fff\"><script nonce=\"Pm9NlYGN9h9m8b5LaB8bFw==\">(function(){var src='/images/nav_logo229.png';var iesg=false;document.body.onload = function(){window.n && window.n();if (document.images){new Image().src=src;}\n",
       "if (!iesg){document.f&&document.f.q.focus();document.gbqf&&document.gbqf.q.focus();}\n",
       "}\n",
       "})();</script><div id=\"mngb\"> <div id=\"gbar\"><nobr><b class=\"gb1\">Search</b> <a class=\"gb1\" href=\"https://www.google.co.in/imghp?hl=en&amp;tab=wi\">Images</a> <a class=\"gb1\" href=\"https://maps.google.co.in/maps?hl=en&amp;tab=wl\">Maps</a> <a class=\"gb1\" href=\"https://play.google.com/?hl=en&amp;tab=w8\">Play</a> <a class=\"gb1\" href=\"https://www.youtube.com/?gl=IN&amp;tab=w1\">YouTube</a> <a class=\"gb1\" href=\"https://news.google.co.in/nwshp?hl=en&amp;tab=wn\">News</a> <a class=\"gb1\" href=\"https://mail.google.com/mail/?tab=wm\">Gmail</a> <a class=\"gb1\" href=\"https://drive.google.com/?tab=wo\">Drive</a> <a class=\"gb1\" href=\"https://www.google.co.in/intl/en/about/products?tab=wh\" style=\"text-decoration:none\"><u>More</u> »</a></nobr></div><div id=\"guser\" width=\"100%\"><nobr><span class=\"gbi\" id=\"gbn\"></span><span class=\"gbf\" id=\"gbf\"></span><span id=\"gbe\"></span><a class=\"gb4\" href=\"http://www.google.co.in/history/optout?hl=en\">Web History</a> | <a class=\"gb4\" href=\"/preferences?hl=en\">Settings</a> | <a class=\"gb4\" href=\"https://accounts.google.com/ServiceLogin?hl=en&amp;passive=true&amp;continue=https://www.google.com/\" id=\"gb_70\" target=\"_top\">Sign in</a></nobr></div><div class=\"gbh\" style=\"left:0\"></div><div class=\"gbh\" style=\"right:0\"></div> </div><center><br clear=\"all\" id=\"lgpd\"/><div id=\"lga\"><img alt=\"Google\" height=\"92\" id=\"hplogo\" src=\"/images/branding/googlelogo/1x/googlelogo_white_background_color_272x92dp.png\" style=\"padding:28px 0 14px\" width=\"272\"/><br/><br/></div><form action=\"/search\" name=\"f\"><table cellpadding=\"0\" cellspacing=\"0\"><tr valign=\"top\"><td width=\"25%\"> </td><td align=\"center\" nowrap=\"\"><input name=\"ie\" type=\"hidden\" value=\"ISO-8859-1\"/><input name=\"hl\" type=\"hidden\" value=\"en-IN\"/><input name=\"source\" type=\"hidden\" value=\"hp\"/><input name=\"biw\" type=\"hidden\"/><input name=\"bih\" type=\"hidden\"/><div class=\"ds\" style=\"height:32px;margin:4px 0\"><input autocomplete=\"off\" class=\"lst\" maxlength=\"2048\" name=\"q\" size=\"57\" style=\"margin:0;padding:5px 8px 0 6px;vertical-align:top;color:#000\" title=\"Google Search\" value=\"\"/></div><br style=\"line-height:0\"/><span class=\"ds\"><span class=\"lsbb\"><input class=\"lsb\" name=\"btnG\" type=\"submit\" value=\"Google Search\"/></span></span><span class=\"ds\"><span class=\"lsbb\"><input class=\"lsb\" id=\"tsuid1\" name=\"btnI\" type=\"submit\" value=\"I'm Feeling Lucky\"/><script nonce=\"Pm9NlYGN9h9m8b5LaB8bFw==\">(function(){var id='tsuid1';document.getElementById(id).onclick = function(){if (this.form.q.value){this.checked = 1;if (this.form.iflsig)this.form.iflsig.disabled = false;}\n",
       "else top.location='/doodles/';};})();</script><input name=\"iflsig\" type=\"hidden\" value=\"AINFCbYAAAAAXt9XmvI7o10byqPB_pgNtsqbdtdrLKH8\"/></span></span></td><td align=\"left\" class=\"fl sblc\" nowrap=\"\" width=\"25%\"><a href=\"/advanced_search?hl=en-IN&amp;authuser=0\">Advanced search</a></td></tr></table><input id=\"gbv\" name=\"gbv\" type=\"hidden\" value=\"1\"/><script nonce=\"Pm9NlYGN9h9m8b5LaB8bFw==\">(function(){var a,b=\"1\";if(document&&document.getElementById)if(\"undefined\"!=typeof XMLHttpRequest)b=\"2\";else if(\"undefined\"!=typeof ActiveXObject){var c,d,e=[\"MSXML2.XMLHTTP.6.0\",\"MSXML2.XMLHTTP.3.0\",\"MSXML2.XMLHTTP\",\"Microsoft.XMLHTTP\"];for(c=0;d=e[c++];)try{new ActiveXObject(d),b=\"2\"}catch(h){}}a=b;if(\"2\"==a&&-1==location.search.indexOf(\"&gbv=2\")){var f=google.gbvu,g=document.getElementById(\"gbv\");g&&(g.value=a);f&&window.setTimeout(function(){location.href=f},0)};}).call(this);</script></form><div id=\"gac_scont\"></div><div style=\"font-size:83%;min-height:3.5em\"><br/><div id=\"gws-output-pages-elements-homepage_additional_languages__als\"><style>#gws-output-pages-elements-homepage_additional_languages__als{font-size:small;margin-bottom:24px}#SIvCob{display:inline-block;line-height:28px;}#SIvCob a{padding:0 3px;}.H6sW5{display:inline-block;margin:0 2px;white-space:nowrap}.z4hgWe{display:inline-block;margin:0 2px}</style><div id=\"SIvCob\">Google offered in:  <a href=\"https://www.google.com/setprefs?sig=0_DyJO2ajdRuP__cDJ64ncAUdnFEU%3D&amp;hl=hi&amp;source=homepage&amp;sa=X&amp;ved=0ahUKEwjY2Ya_qfTpAhWbzTgGHaJNA9gQ2ZgBCAU\">हिन्दी</a> <a href=\"https://www.google.com/setprefs?sig=0_DyJO2ajdRuP__cDJ64ncAUdnFEU%3D&amp;hl=bn&amp;source=homepage&amp;sa=X&amp;ved=0ahUKEwjY2Ya_qfTpAhWbzTgGHaJNA9gQ2ZgBCAY\">বাংলা</a> <a href=\"https://www.google.com/setprefs?sig=0_DyJO2ajdRuP__cDJ64ncAUdnFEU%3D&amp;hl=te&amp;source=homepage&amp;sa=X&amp;ved=0ahUKEwjY2Ya_qfTpAhWbzTgGHaJNA9gQ2ZgBCAc\">తెలుగు</a> <a href=\"https://www.google.com/setprefs?sig=0_DyJO2ajdRuP__cDJ64ncAUdnFEU%3D&amp;hl=mr&amp;source=homepage&amp;sa=X&amp;ved=0ahUKEwjY2Ya_qfTpAhWbzTgGHaJNA9gQ2ZgBCAg\">मराठी</a> <a href=\"https://www.google.com/setprefs?sig=0_DyJO2ajdRuP__cDJ64ncAUdnFEU%3D&amp;hl=ta&amp;source=homepage&amp;sa=X&amp;ved=0ahUKEwjY2Ya_qfTpAhWbzTgGHaJNA9gQ2ZgBCAk\">தமிழ்</a> <a href=\"https://www.google.com/setprefs?sig=0_DyJO2ajdRuP__cDJ64ncAUdnFEU%3D&amp;hl=gu&amp;source=homepage&amp;sa=X&amp;ved=0ahUKEwjY2Ya_qfTpAhWbzTgGHaJNA9gQ2ZgBCAo\">ગુજરાતી</a> <a href=\"https://www.google.com/setprefs?sig=0_DyJO2ajdRuP__cDJ64ncAUdnFEU%3D&amp;hl=kn&amp;source=homepage&amp;sa=X&amp;ved=0ahUKEwjY2Ya_qfTpAhWbzTgGHaJNA9gQ2ZgBCAs\">ಕನ್ನಡ</a> <a href=\"https://www.google.com/setprefs?sig=0_DyJO2ajdRuP__cDJ64ncAUdnFEU%3D&amp;hl=ml&amp;source=homepage&amp;sa=X&amp;ved=0ahUKEwjY2Ya_qfTpAhWbzTgGHaJNA9gQ2ZgBCAw\">മലയാളം</a> <a href=\"https://www.google.com/setprefs?sig=0_DyJO2ajdRuP__cDJ64ncAUdnFEU%3D&amp;hl=pa&amp;source=homepage&amp;sa=X&amp;ved=0ahUKEwjY2Ya_qfTpAhWbzTgGHaJNA9gQ2ZgBCA0\">ਪੰਜਾਬੀ</a> </div></div></div><span id=\"footer\"><div style=\"font-size:10pt\"><div id=\"fll\" style=\"margin:19px auto;text-align:center\"><a href=\"/intl/en/ads/\">Advertising Programs</a><a href=\"http://www.google.co.in/services/\">Business Solutions</a><a href=\"/intl/en/about.html\">About Google</a><a href=\"https://www.google.com/setprefdomain?prefdom=IN&amp;prev=https://www.google.co.in/&amp;sig=K_I3c2CLilbJcMF1GM-LSUMts19d4%3D\">Google.co.in</a></div></div><p style=\"font-size:8pt;color:#767676\">© 2020 - <a href=\"/intl/en/policies/privacy/\">Privacy</a> - <a href=\"/intl/en/policies/terms/\">Terms</a></p></span></center><script nonce=\"Pm9NlYGN9h9m8b5LaB8bFw==\">(function(){window.google.cdo={height:0,width:0};(function(){var a=window.innerWidth,b=window.innerHeight;if(!a||!b){var c=window.document,d=\"CSS1Compat\"==c.compatMode?c.documentElement:c.body;a=d.clientWidth;b=d.clientHeight}a&&b&&(a!=google.cdo.width||b!=google.cdo.height)&&google.log(\"\",\"\",\"/client_204?&atyp=i&biw=\"+a+\"&bih=\"+b+\"&ei=\"+google.kEI);}).call(this);})();(function(){var u='/xjs/_/js/k\\x3dxjs.hp.en.6yMITTwHK7M.O/m\\x3dsb_he,d/am\\x3dAC8ENgc/d\\x3d1/rs\\x3dACT90oE_O2agsXVcszmRe8Sr3BTYA7z1LQ';\n",
       "setTimeout(function(){var b=document;var a=\"SCRIPT\";\"application/xhtml+xml\"===b.contentType&&(a=a.toLowerCase());a=b.createElement(a);a.src=u;google.timers&&google.timers.load&&google.tick&&google.tick(\"load\",\"xjsls\");document.body.appendChild(a)},0);})();(function(){window.google.xjsu='/xjs/_/js/k\\x3dxjs.hp.en.6yMITTwHK7M.O/m\\x3dsb_he,d/am\\x3dAC8ENgc/d\\x3d1/rs\\x3dACT90oE_O2agsXVcszmRe8Sr3BTYA7z1LQ';})();function _DumpException(e){throw e;}\n",
       "function _F_installCss(c){}\n",
       "(function(){google.jl={dw:false,em:[],emw:false,lls:'default',pdt:0,snet:true,uwp:true};})();(function(){var pmc='{\\x22d\\x22:{},\\x22sb_he\\x22:{\\x22agen\\x22:true,\\x22cgen\\x22:true,\\x22client\\x22:\\x22heirloom-hp\\x22,\\x22dh\\x22:true,\\x22dhqt\\x22:true,\\x22ds\\x22:\\x22\\x22,\\x22ffql\\x22:\\x22en\\x22,\\x22fl\\x22:true,\\x22host\\x22:\\x22google.com\\x22,\\x22isbh\\x22:28,\\x22jsonp\\x22:true,\\x22msgs\\x22:{\\x22cibl\\x22:\\x22Clear Search\\x22,\\x22dym\\x22:\\x22Did you mean:\\x22,\\x22lcky\\x22:\\x22I\\\\u0026#39;m Feeling Lucky\\x22,\\x22lml\\x22:\\x22Learn more\\x22,\\x22oskt\\x22:\\x22Input tools\\x22,\\x22psrc\\x22:\\x22This search was removed from your \\\\u003Ca href\\x3d\\\\\\x22/history\\\\\\x22\\\\u003EWeb History\\\\u003C/a\\\\u003E\\x22,\\x22psrl\\x22:\\x22Remove\\x22,\\x22sbit\\x22:\\x22Search by image\\x22,\\x22srch\\x22:\\x22Google Search\\x22},\\x22ovr\\x22:{},\\x22pq\\x22:\\x22\\x22,\\x22refpd\\x22:true,\\x22rfs\\x22:[],\\x22sbpl\\x22:16,\\x22sbpr\\x22:16,\\x22scd\\x22:10,\\x22stok\\x22:\\x22PKPvw2zV6dvy17vh_r6XzP6hnAk\\x22,\\x22uhde\\x22:false}}';google.pmc=JSON.parse(pmc);})();</script> </body></html>"
      ]
     },
     "execution_count": 21,
     "metadata": {},
     "output_type": "execute_result"
    }
   ],
   "source": [
    "bs(src)"
   ]
  },
  {
   "cell_type": "code",
   "execution_count": 23,
   "metadata": {},
   "outputs": [
    {
     "data": {
      "text/plain": [
       "<!DOCTYPE doctype html>\n",
       "<html itemscope=\"\" itemtype=\"http://schema.org/WebPage\" lang=\"en-IN\"><head><meta content=\"text/html; charset=utf-8\" http-equiv=\"Content-Type\"/><meta content=\"/images/branding/googleg/1x/googleg_standard_color_128dp.png\" itemprop=\"image\"/><title>Google</title><script nonce=\"Pm9NlYGN9h9m8b5LaB8bFw==\">(function(){window.google={kEI:'iknfXtjsDpub4-EPopuNwA0',kEXPI:'0,202123,3,4,32,1151585,5662,730,224,5104,207,3204,10,1226,364,1499,576,127,114,383,246,5,960,394,196,842,112,11,531,2,97,176,945,966,137,95,145,42,117,3,165,1123184,1197774,375,78,329040,1294,12383,4855,32691,15248,861,17450,11240,9188,8384,4858,1362,9290,3021,3897,857,11026,1808,1960,2060,978,4784,1,1457,1689,5297,2054,920,873,1217,8989,1,415,1141,7512,2653,3221,4518,1396,1381,919,2277,8,85,2711,885,708,1165,114,2212,530,149,1943,517,1137,278,107,158,4100,109,203,1132,4,3,2669,1839,184,1777,143,377,1946,2230,93,328,1284,16,2927,2246,474,1339,748,1039,604,2623,1989,856,7,6068,6286,4454,642,2449,2459,1226,1743,3653,1275,108,591,1119,1697,908,2,941,552,420,1642,2397,5419,2051,840,1337,1098,3,576,970,865,7,371,3540,706,149,189,3313,502,1,1986,27,130,1,2093,3989,1093,81,570,4,1528,17,924,353,1010,1238,269,618,256,395,2,8,41,1798,21,177,69,199,1650,331,41,800,917,9,43,76,4,134,520,682,1884,43,77,1222,213,4,495,640,591,1321,273,742,252,427,1587,86,3,585,20,147,741,237,1025,525,1426,69,24,70,211,533,95,419,267,414,217,328,37,42,328,230,623,82,209,286,507,1,245,201,57,939,2,1,1,830,3,440,2,39,241,244,1243,426,2,27,895,1,3,52,33,396,2,99,485,3,175,5803528,1805894,6996022,549,333,444,1,2,80,1,900,896,1,8,1,2,2551,1,748,141,59,736,563,1,4265,1,1,1,1,137,1,879,9,305,2522,98,26,2,7,1,2,1,3389619,17352106,3220020,40',kBL:'P2-H'};google.sn='webhp';google.kHL='en-IN';})();(function(){google.lc=[];google.li=0;google.getEI=function(a){for(var c;a&&(!a.getAttribute||!(c=a.getAttribute(\"eid\")));)a=a.parentNode;return c||google.kEI};google.getLEI=function(a){for(var c=null;a&&(!a.getAttribute||!(c=a.getAttribute(\"leid\")));)a=a.parentNode;return c};google.ml=function(){return null};google.time=function(){return Date.now()};google.log=function(a,c,b,d,g){if(b=google.logUrl(a,c,b,d,g)){a=new Image;var e=google.lc,f=google.li;e[f]=a;a.onerror=a.onload=a.onabort=function(){delete e[f]};google.vel&&google.vel.lu&&google.vel.lu(b);a.src=b;google.li=f+1}};google.logUrl=function(a,c,b,d,g){var e=\"\",f=google.ls||\"\";b||-1!=c.search(\"&ei=\")||(e=\"&ei=\"+google.getEI(d),-1==c.search(\"&lei=\")&&(d=google.getLEI(d))&&(e+=\"&lei=\"+d));d=\"\";!b&&google.cshid&&-1==c.search(\"&cshid=\")&&\"slh\"!=a&&(d=\"&cshid=\"+google.cshid);b=b||\"/\"+(g||\"gen_204\")+\"?atyp=i&ct=\"+a+\"&cad=\"+c+e+f+\"&zx=\"+google.time()+d;/^http:/i.test(b)&&\"https:\"==window.location.protocol&&(google.ml(Error(\"a\"),!1,{src:b,glmm:1}),b=\"\");return b};}).call(this);(function(){google.y={};google.x=function(a,b){if(a)var c=a.id;else{do c=Math.random();while(google.y[c])}google.y[c]=[a,b];return!1};google.lm=[];google.plm=function(a){google.lm.push.apply(google.lm,a)};google.lq=[];google.load=function(a,b,c){google.lq.push([[a],b,c])};google.loadAll=function(a,b){google.lq.push([a,b])};}).call(this);google.f={};(function(){\n",
       "document.documentElement.addEventListener(\"submit\",function(b){var a;if(a=b.target){var c=a.getAttribute(\"data-submitfalse\");a=\"1\"==c||\"q\"==c&&!a.elements.q.value?!0:!1}else a=!1;a&&(b.preventDefault(),b.stopPropagation())},!0);document.documentElement.addEventListener(\"click\",function(b){var a;a:{for(a=b.target;a&&a!=document.documentElement;a=a.parentElement)if(\"A\"==a.tagName){a=\"1\"==a.getAttribute(\"data-nohref\");break a}a=!1}a&&b.preventDefault()},!0);}).call(this);\n",
       "var a=window.location,b=a.href.indexOf(\"#\");if(0<=b){var c=a.href.substring(b+1);/(^|&)q=/.test(c)&&-1==c.indexOf(\"#\")&&a.replace(\"/search?\"+c.replace(/(^|&)fp=[^&]*/g,\"\")+\"&cad=h\")};</script><style>#gbar,#guser{font-size:13px;padding-top:1px !important;}#gbar{height:22px}#guser{padding-bottom:7px !important;text-align:right}.gbh,.gbd{border-top:1px solid #c9d7f1;font-size:1px}.gbh{height:0;position:absolute;top:24px;width:100%}@media all{.gb1{height:22px;margin-right:.5em;vertical-align:top}#gbar{float:left}}a.gb1,a.gb4{text-decoration:underline !important}a.gb1,a.gb4{color:#00c !important}.gbi .gb4{color:#dd8e27 !important}.gbf .gb4{color:#900 !important}\n",
       "</style><style>body,td,a,p,.h{font-family:arial,sans-serif}body{margin:0;overflow-y:scroll}#gog{padding:3px 8px 0}td{line-height:.8em}.gac_m td{line-height:17px}form{margin-bottom:20px}.h{color:#36c}.q{color:#00c}.ts td{padding:0}.ts{border-collapse:collapse}em{font-weight:bold;font-style:normal}.lst{height:25px;width:496px}.gsfi,.lst{font:18px arial,sans-serif}.gsfs{font:17px arial,sans-serif}.ds{display:inline-box;display:inline-block;margin:3px 0 4px;margin-left:4px}input{font-family:inherit}body{background:#fff;color:#000}a{color:#11c;text-decoration:none}a:hover,a:active{text-decoration:underline}.fl a{color:#36c}a:visited{color:#551a8b}.sblc{padding-top:5px}.sblc a{display:block;margin:2px 0;margin-left:13px;font-size:11px}.lsbb{background:#eee;border:solid 1px;border-color:#ccc #999 #999 #ccc;height:30px}.lsbb{display:block}.ftl,#fll a{display:inline-block;margin:0 12px}.lsb{background:url(/images/nav_logo229.png) 0 -261px repeat-x;border:none;color:#000;cursor:pointer;height:30px;margin:0;outline:0;font:15px arial,sans-serif;vertical-align:top}.lsb:active{background:#ccc}.lst:focus{outline:none}</style><script nonce=\"Pm9NlYGN9h9m8b5LaB8bFw==\"></script></head><body bgcolor=\"#fff\"><script nonce=\"Pm9NlYGN9h9m8b5LaB8bFw==\">(function(){var src='/images/nav_logo229.png';var iesg=false;document.body.onload = function(){window.n && window.n();if (document.images){new Image().src=src;}\n",
       "if (!iesg){document.f&&document.f.q.focus();document.gbqf&&document.gbqf.q.focus();}\n",
       "}\n",
       "})();</script><div id=\"mngb\"> <div id=\"gbar\"><nobr><b class=\"gb1\">Search</b> <a class=\"gb1\" href=\"https://www.google.co.in/imghp?hl=en&amp;tab=wi\">Images</a> <a class=\"gb1\" href=\"https://maps.google.co.in/maps?hl=en&amp;tab=wl\">Maps</a> <a class=\"gb1\" href=\"https://play.google.com/?hl=en&amp;tab=w8\">Play</a> <a class=\"gb1\" href=\"https://www.youtube.com/?gl=IN&amp;tab=w1\">YouTube</a> <a class=\"gb1\" href=\"https://news.google.co.in/nwshp?hl=en&amp;tab=wn\">News</a> <a class=\"gb1\" href=\"https://mail.google.com/mail/?tab=wm\">Gmail</a> <a class=\"gb1\" href=\"https://drive.google.com/?tab=wo\">Drive</a> <a class=\"gb1\" href=\"https://www.google.co.in/intl/en/about/products?tab=wh\" style=\"text-decoration:none\"><u>More</u> »</a></nobr></div><div id=\"guser\" width=\"100%\"><nobr><span class=\"gbi\" id=\"gbn\"></span><span class=\"gbf\" id=\"gbf\"></span><span id=\"gbe\"></span><a class=\"gb4\" href=\"http://www.google.co.in/history/optout?hl=en\">Web History</a> | <a class=\"gb4\" href=\"/preferences?hl=en\">Settings</a> | <a class=\"gb4\" href=\"https://accounts.google.com/ServiceLogin?hl=en&amp;passive=true&amp;continue=https://www.google.com/\" id=\"gb_70\" target=\"_top\">Sign in</a></nobr></div><div class=\"gbh\" style=\"left:0\"></div><div class=\"gbh\" style=\"right:0\"></div> </div><center><br clear=\"all\" id=\"lgpd\"/><div id=\"lga\"><img alt=\"Google\" height=\"92\" id=\"hplogo\" src=\"/images/branding/googlelogo/1x/googlelogo_white_background_color_272x92dp.png\" style=\"padding:28px 0 14px\" width=\"272\"/><br/><br/></div><form action=\"/search\" name=\"f\"><table cellpadding=\"0\" cellspacing=\"0\"><tr valign=\"top\"><td width=\"25%\"> </td><td align=\"center\" nowrap=\"\"><input name=\"ie\" type=\"hidden\" value=\"ISO-8859-1\"/><input name=\"hl\" type=\"hidden\" value=\"en-IN\"/><input name=\"source\" type=\"hidden\" value=\"hp\"/><input name=\"biw\" type=\"hidden\"/><input name=\"bih\" type=\"hidden\"/><div class=\"ds\" style=\"height:32px;margin:4px 0\"><input autocomplete=\"off\" class=\"lst\" maxlength=\"2048\" name=\"q\" size=\"57\" style=\"margin:0;padding:5px 8px 0 6px;vertical-align:top;color:#000\" title=\"Google Search\" value=\"\"/></div><br style=\"line-height:0\"/><span class=\"ds\"><span class=\"lsbb\"><input class=\"lsb\" name=\"btnG\" type=\"submit\" value=\"Google Search\"/></span></span><span class=\"ds\"><span class=\"lsbb\"><input class=\"lsb\" id=\"tsuid1\" name=\"btnI\" type=\"submit\" value=\"I'm Feeling Lucky\"/><script nonce=\"Pm9NlYGN9h9m8b5LaB8bFw==\">(function(){var id='tsuid1';document.getElementById(id).onclick = function(){if (this.form.q.value){this.checked = 1;if (this.form.iflsig)this.form.iflsig.disabled = false;}\n",
       "else top.location='/doodles/';};})();</script><input name=\"iflsig\" type=\"hidden\" value=\"AINFCbYAAAAAXt9XmvI7o10byqPB_pgNtsqbdtdrLKH8\"/></span></span></td><td align=\"left\" class=\"fl sblc\" nowrap=\"\" width=\"25%\"><a href=\"/advanced_search?hl=en-IN&amp;authuser=0\">Advanced search</a></td></tr></table><input id=\"gbv\" name=\"gbv\" type=\"hidden\" value=\"1\"/><script nonce=\"Pm9NlYGN9h9m8b5LaB8bFw==\">(function(){var a,b=\"1\";if(document&&document.getElementById)if(\"undefined\"!=typeof XMLHttpRequest)b=\"2\";else if(\"undefined\"!=typeof ActiveXObject){var c,d,e=[\"MSXML2.XMLHTTP.6.0\",\"MSXML2.XMLHTTP.3.0\",\"MSXML2.XMLHTTP\",\"Microsoft.XMLHTTP\"];for(c=0;d=e[c++];)try{new ActiveXObject(d),b=\"2\"}catch(h){}}a=b;if(\"2\"==a&&-1==location.search.indexOf(\"&gbv=2\")){var f=google.gbvu,g=document.getElementById(\"gbv\");g&&(g.value=a);f&&window.setTimeout(function(){location.href=f},0)};}).call(this);</script></form><div id=\"gac_scont\"></div><div style=\"font-size:83%;min-height:3.5em\"><br/><div id=\"gws-output-pages-elements-homepage_additional_languages__als\"><style>#gws-output-pages-elements-homepage_additional_languages__als{font-size:small;margin-bottom:24px}#SIvCob{display:inline-block;line-height:28px;}#SIvCob a{padding:0 3px;}.H6sW5{display:inline-block;margin:0 2px;white-space:nowrap}.z4hgWe{display:inline-block;margin:0 2px}</style><div id=\"SIvCob\">Google offered in:  <a href=\"https://www.google.com/setprefs?sig=0_DyJO2ajdRuP__cDJ64ncAUdnFEU%3D&amp;hl=hi&amp;source=homepage&amp;sa=X&amp;ved=0ahUKEwjY2Ya_qfTpAhWbzTgGHaJNA9gQ2ZgBCAU\">हिन्दी</a> <a href=\"https://www.google.com/setprefs?sig=0_DyJO2ajdRuP__cDJ64ncAUdnFEU%3D&amp;hl=bn&amp;source=homepage&amp;sa=X&amp;ved=0ahUKEwjY2Ya_qfTpAhWbzTgGHaJNA9gQ2ZgBCAY\">বাংলা</a> <a href=\"https://www.google.com/setprefs?sig=0_DyJO2ajdRuP__cDJ64ncAUdnFEU%3D&amp;hl=te&amp;source=homepage&amp;sa=X&amp;ved=0ahUKEwjY2Ya_qfTpAhWbzTgGHaJNA9gQ2ZgBCAc\">తెలుగు</a> <a href=\"https://www.google.com/setprefs?sig=0_DyJO2ajdRuP__cDJ64ncAUdnFEU%3D&amp;hl=mr&amp;source=homepage&amp;sa=X&amp;ved=0ahUKEwjY2Ya_qfTpAhWbzTgGHaJNA9gQ2ZgBCAg\">मराठी</a> <a href=\"https://www.google.com/setprefs?sig=0_DyJO2ajdRuP__cDJ64ncAUdnFEU%3D&amp;hl=ta&amp;source=homepage&amp;sa=X&amp;ved=0ahUKEwjY2Ya_qfTpAhWbzTgGHaJNA9gQ2ZgBCAk\">தமிழ்</a> <a href=\"https://www.google.com/setprefs?sig=0_DyJO2ajdRuP__cDJ64ncAUdnFEU%3D&amp;hl=gu&amp;source=homepage&amp;sa=X&amp;ved=0ahUKEwjY2Ya_qfTpAhWbzTgGHaJNA9gQ2ZgBCAo\">ગુજરાતી</a> <a href=\"https://www.google.com/setprefs?sig=0_DyJO2ajdRuP__cDJ64ncAUdnFEU%3D&amp;hl=kn&amp;source=homepage&amp;sa=X&amp;ved=0ahUKEwjY2Ya_qfTpAhWbzTgGHaJNA9gQ2ZgBCAs\">ಕನ್ನಡ</a> <a href=\"https://www.google.com/setprefs?sig=0_DyJO2ajdRuP__cDJ64ncAUdnFEU%3D&amp;hl=ml&amp;source=homepage&amp;sa=X&amp;ved=0ahUKEwjY2Ya_qfTpAhWbzTgGHaJNA9gQ2ZgBCAw\">മലയാളം</a> <a href=\"https://www.google.com/setprefs?sig=0_DyJO2ajdRuP__cDJ64ncAUdnFEU%3D&amp;hl=pa&amp;source=homepage&amp;sa=X&amp;ved=0ahUKEwjY2Ya_qfTpAhWbzTgGHaJNA9gQ2ZgBCA0\">ਪੰਜਾਬੀ</a> </div></div></div><span id=\"footer\"><div style=\"font-size:10pt\"><div id=\"fll\" style=\"margin:19px auto;text-align:center\"><a href=\"/intl/en/ads/\">Advertising Programs</a><a href=\"http://www.google.co.in/services/\">Business Solutions</a><a href=\"/intl/en/about.html\">About Google</a><a href=\"https://www.google.com/setprefdomain?prefdom=IN&amp;prev=https://www.google.co.in/&amp;sig=K_I3c2CLilbJcMF1GM-LSUMts19d4%3D\">Google.co.in</a></div></div><p style=\"font-size:8pt;color:#767676\">© 2020 - <a href=\"/intl/en/policies/privacy/\">Privacy</a> - <a href=\"/intl/en/policies/terms/\">Terms</a></p></span></center><script nonce=\"Pm9NlYGN9h9m8b5LaB8bFw==\">(function(){window.google.cdo={height:0,width:0};(function(){var a=window.innerWidth,b=window.innerHeight;if(!a||!b){var c=window.document,d=\"CSS1Compat\"==c.compatMode?c.documentElement:c.body;a=d.clientWidth;b=d.clientHeight}a&&b&&(a!=google.cdo.width||b!=google.cdo.height)&&google.log(\"\",\"\",\"/client_204?&atyp=i&biw=\"+a+\"&bih=\"+b+\"&ei=\"+google.kEI);}).call(this);})();(function(){var u='/xjs/_/js/k\\x3dxjs.hp.en.6yMITTwHK7M.O/m\\x3dsb_he,d/am\\x3dAC8ENgc/d\\x3d1/rs\\x3dACT90oE_O2agsXVcszmRe8Sr3BTYA7z1LQ';\n",
       "setTimeout(function(){var b=document;var a=\"SCRIPT\";\"application/xhtml+xml\"===b.contentType&&(a=a.toLowerCase());a=b.createElement(a);a.src=u;google.timers&&google.timers.load&&google.tick&&google.tick(\"load\",\"xjsls\");document.body.appendChild(a)},0);})();(function(){window.google.xjsu='/xjs/_/js/k\\x3dxjs.hp.en.6yMITTwHK7M.O/m\\x3dsb_he,d/am\\x3dAC8ENgc/d\\x3d1/rs\\x3dACT90oE_O2agsXVcszmRe8Sr3BTYA7z1LQ';})();function _DumpException(e){throw e;}\n",
       "function _F_installCss(c){}\n",
       "(function(){google.jl={dw:false,em:[],emw:false,lls:'default',pdt:0,snet:true,uwp:true};})();(function(){var pmc='{\\x22d\\x22:{},\\x22sb_he\\x22:{\\x22agen\\x22:true,\\x22cgen\\x22:true,\\x22client\\x22:\\x22heirloom-hp\\x22,\\x22dh\\x22:true,\\x22dhqt\\x22:true,\\x22ds\\x22:\\x22\\x22,\\x22ffql\\x22:\\x22en\\x22,\\x22fl\\x22:true,\\x22host\\x22:\\x22google.com\\x22,\\x22isbh\\x22:28,\\x22jsonp\\x22:true,\\x22msgs\\x22:{\\x22cibl\\x22:\\x22Clear Search\\x22,\\x22dym\\x22:\\x22Did you mean:\\x22,\\x22lcky\\x22:\\x22I\\\\u0026#39;m Feeling Lucky\\x22,\\x22lml\\x22:\\x22Learn more\\x22,\\x22oskt\\x22:\\x22Input tools\\x22,\\x22psrc\\x22:\\x22This search was removed from your \\\\u003Ca href\\x3d\\\\\\x22/history\\\\\\x22\\\\u003EWeb History\\\\u003C/a\\\\u003E\\x22,\\x22psrl\\x22:\\x22Remove\\x22,\\x22sbit\\x22:\\x22Search by image\\x22,\\x22srch\\x22:\\x22Google Search\\x22},\\x22ovr\\x22:{},\\x22pq\\x22:\\x22\\x22,\\x22refpd\\x22:true,\\x22rfs\\x22:[],\\x22sbpl\\x22:16,\\x22sbpr\\x22:16,\\x22scd\\x22:10,\\x22stok\\x22:\\x22PKPvw2zV6dvy17vh_r6XzP6hnAk\\x22,\\x22uhde\\x22:false}}';google.pmc=JSON.parse(pmc);})();</script> </body></html>"
      ]
     },
     "execution_count": 23,
     "metadata": {},
     "output_type": "execute_result"
    }
   ],
   "source": [
    "soup = bs(src,'html.parser')\n",
    "soup"
   ]
  },
  {
   "cell_type": "code",
   "execution_count": 26,
   "metadata": {},
   "outputs": [
    {
     "data": {
      "text/plain": [
       "[<a class=\"gb1\" href=\"https://www.google.co.in/imghp?hl=en&amp;tab=wi\">Images</a>,\n",
       " <a class=\"gb1\" href=\"https://maps.google.co.in/maps?hl=en&amp;tab=wl\">Maps</a>,\n",
       " <a class=\"gb1\" href=\"https://play.google.com/?hl=en&amp;tab=w8\">Play</a>,\n",
       " <a class=\"gb1\" href=\"https://www.youtube.com/?gl=IN&amp;tab=w1\">YouTube</a>,\n",
       " <a class=\"gb1\" href=\"https://news.google.co.in/nwshp?hl=en&amp;tab=wn\">News</a>,\n",
       " <a class=\"gb1\" href=\"https://mail.google.com/mail/?tab=wm\">Gmail</a>,\n",
       " <a class=\"gb1\" href=\"https://drive.google.com/?tab=wo\">Drive</a>,\n",
       " <a class=\"gb1\" href=\"https://www.google.co.in/intl/en/about/products?tab=wh\" style=\"text-decoration:none\"><u>More</u> »</a>,\n",
       " <a class=\"gb4\" href=\"http://www.google.co.in/history/optout?hl=en\">Web History</a>,\n",
       " <a class=\"gb4\" href=\"/preferences?hl=en\">Settings</a>,\n",
       " <a class=\"gb4\" href=\"https://accounts.google.com/ServiceLogin?hl=en&amp;passive=true&amp;continue=https://www.google.com/\" id=\"gb_70\" target=\"_top\">Sign in</a>,\n",
       " <a href=\"/advanced_search?hl=en-IN&amp;authuser=0\">Advanced search</a>,\n",
       " <a href=\"https://www.google.com/setprefs?sig=0_DyJO2ajdRuP__cDJ64ncAUdnFEU%3D&amp;hl=hi&amp;source=homepage&amp;sa=X&amp;ved=0ahUKEwjY2Ya_qfTpAhWbzTgGHaJNA9gQ2ZgBCAU\">हिन्दी</a>,\n",
       " <a href=\"https://www.google.com/setprefs?sig=0_DyJO2ajdRuP__cDJ64ncAUdnFEU%3D&amp;hl=bn&amp;source=homepage&amp;sa=X&amp;ved=0ahUKEwjY2Ya_qfTpAhWbzTgGHaJNA9gQ2ZgBCAY\">বাংলা</a>,\n",
       " <a href=\"https://www.google.com/setprefs?sig=0_DyJO2ajdRuP__cDJ64ncAUdnFEU%3D&amp;hl=te&amp;source=homepage&amp;sa=X&amp;ved=0ahUKEwjY2Ya_qfTpAhWbzTgGHaJNA9gQ2ZgBCAc\">తెలుగు</a>,\n",
       " <a href=\"https://www.google.com/setprefs?sig=0_DyJO2ajdRuP__cDJ64ncAUdnFEU%3D&amp;hl=mr&amp;source=homepage&amp;sa=X&amp;ved=0ahUKEwjY2Ya_qfTpAhWbzTgGHaJNA9gQ2ZgBCAg\">मराठी</a>,\n",
       " <a href=\"https://www.google.com/setprefs?sig=0_DyJO2ajdRuP__cDJ64ncAUdnFEU%3D&amp;hl=ta&amp;source=homepage&amp;sa=X&amp;ved=0ahUKEwjY2Ya_qfTpAhWbzTgGHaJNA9gQ2ZgBCAk\">தமிழ்</a>,\n",
       " <a href=\"https://www.google.com/setprefs?sig=0_DyJO2ajdRuP__cDJ64ncAUdnFEU%3D&amp;hl=gu&amp;source=homepage&amp;sa=X&amp;ved=0ahUKEwjY2Ya_qfTpAhWbzTgGHaJNA9gQ2ZgBCAo\">ગુજરાતી</a>,\n",
       " <a href=\"https://www.google.com/setprefs?sig=0_DyJO2ajdRuP__cDJ64ncAUdnFEU%3D&amp;hl=kn&amp;source=homepage&amp;sa=X&amp;ved=0ahUKEwjY2Ya_qfTpAhWbzTgGHaJNA9gQ2ZgBCAs\">ಕನ್ನಡ</a>,\n",
       " <a href=\"https://www.google.com/setprefs?sig=0_DyJO2ajdRuP__cDJ64ncAUdnFEU%3D&amp;hl=ml&amp;source=homepage&amp;sa=X&amp;ved=0ahUKEwjY2Ya_qfTpAhWbzTgGHaJNA9gQ2ZgBCAw\">മലയാളം</a>,\n",
       " <a href=\"https://www.google.com/setprefs?sig=0_DyJO2ajdRuP__cDJ64ncAUdnFEU%3D&amp;hl=pa&amp;source=homepage&amp;sa=X&amp;ved=0ahUKEwjY2Ya_qfTpAhWbzTgGHaJNA9gQ2ZgBCA0\">ਪੰਜਾਬੀ</a>,\n",
       " <a href=\"/intl/en/ads/\">Advertising Programs</a>,\n",
       " <a href=\"http://www.google.co.in/services/\">Business Solutions</a>,\n",
       " <a href=\"/intl/en/about.html\">About Google</a>,\n",
       " <a href=\"https://www.google.com/setprefdomain?prefdom=IN&amp;prev=https://www.google.co.in/&amp;sig=K_I3c2CLilbJcMF1GM-LSUMts19d4%3D\">Google.co.in</a>,\n",
       " <a href=\"/intl/en/policies/privacy/\">Privacy</a>,\n",
       " <a href=\"/intl/en/policies/terms/\">Terms</a>]"
      ]
     },
     "execution_count": 26,
     "metadata": {},
     "output_type": "execute_result"
    }
   ],
   "source": [
    "links = soup.find_all('a')\n",
    "links"
   ]
  },
  {
   "cell_type": "code",
   "execution_count": 70,
   "metadata": {},
   "outputs": [
    {
     "data": {
      "text/plain": [
       "['https://www.google.co.in/imghp?hl=en&tab=wi',\n",
       " 'https://maps.google.co.in/maps?hl=en&tab=wl',\n",
       " 'https://play.google.com/?hl=en&tab=w8',\n",
       " 'https://www.youtube.com/?gl=IN&tab=w1',\n",
       " 'https://news.google.co.in/nwshp?hl=en&tab=wn',\n",
       " 'https://mail.google.com/mail/?tab=wm',\n",
       " 'https://drive.google.com/?tab=wo',\n",
       " 'https://www.google.co.in/intl/en/about/products?tab=wh',\n",
       " 'http://www.google.co.in/history/optout?hl=en',\n",
       " '/preferences?hl=en',\n",
       " 'https://accounts.google.com/ServiceLogin?hl=en&passive=true&continue=https://www.google.com/',\n",
       " '/advanced_search?hl=en-IN&authuser=0',\n",
       " 'https://www.google.com/setprefs?sig=0_DyJO2ajdRuP__cDJ64ncAUdnFEU%3D&hl=hi&source=homepage&sa=X&ved=0ahUKEwjY2Ya_qfTpAhWbzTgGHaJNA9gQ2ZgBCAU',\n",
       " 'https://www.google.com/setprefs?sig=0_DyJO2ajdRuP__cDJ64ncAUdnFEU%3D&hl=bn&source=homepage&sa=X&ved=0ahUKEwjY2Ya_qfTpAhWbzTgGHaJNA9gQ2ZgBCAY',\n",
       " 'https://www.google.com/setprefs?sig=0_DyJO2ajdRuP__cDJ64ncAUdnFEU%3D&hl=te&source=homepage&sa=X&ved=0ahUKEwjY2Ya_qfTpAhWbzTgGHaJNA9gQ2ZgBCAc',\n",
       " 'https://www.google.com/setprefs?sig=0_DyJO2ajdRuP__cDJ64ncAUdnFEU%3D&hl=mr&source=homepage&sa=X&ved=0ahUKEwjY2Ya_qfTpAhWbzTgGHaJNA9gQ2ZgBCAg',\n",
       " 'https://www.google.com/setprefs?sig=0_DyJO2ajdRuP__cDJ64ncAUdnFEU%3D&hl=ta&source=homepage&sa=X&ved=0ahUKEwjY2Ya_qfTpAhWbzTgGHaJNA9gQ2ZgBCAk',\n",
       " 'https://www.google.com/setprefs?sig=0_DyJO2ajdRuP__cDJ64ncAUdnFEU%3D&hl=gu&source=homepage&sa=X&ved=0ahUKEwjY2Ya_qfTpAhWbzTgGHaJNA9gQ2ZgBCAo',\n",
       " 'https://www.google.com/setprefs?sig=0_DyJO2ajdRuP__cDJ64ncAUdnFEU%3D&hl=kn&source=homepage&sa=X&ved=0ahUKEwjY2Ya_qfTpAhWbzTgGHaJNA9gQ2ZgBCAs',\n",
       " 'https://www.google.com/setprefs?sig=0_DyJO2ajdRuP__cDJ64ncAUdnFEU%3D&hl=ml&source=homepage&sa=X&ved=0ahUKEwjY2Ya_qfTpAhWbzTgGHaJNA9gQ2ZgBCAw',\n",
       " 'https://www.google.com/setprefs?sig=0_DyJO2ajdRuP__cDJ64ncAUdnFEU%3D&hl=pa&source=homepage&sa=X&ved=0ahUKEwjY2Ya_qfTpAhWbzTgGHaJNA9gQ2ZgBCA0',\n",
       " '/intl/en/ads/',\n",
       " 'http://www.google.co.in/services/',\n",
       " '/intl/en/about.html',\n",
       " 'https://www.google.com/setprefdomain?prefdom=IN&prev=https://www.google.co.in/&sig=K_I3c2CLilbJcMF1GM-LSUMts19d4%3D',\n",
       " '/intl/en/policies/privacy/',\n",
       " '/intl/en/policies/terms/']"
      ]
     },
     "execution_count": 70,
     "metadata": {},
     "output_type": "execute_result"
    }
   ],
   "source": [
    "lis = []\n",
    "for link in links:\n",
    "    lis.append(link.attrs['href'])\n",
    "lis"
   ]
  },
  {
   "cell_type": "code",
   "execution_count": 69,
   "metadata": {},
   "outputs": [
    {
     "name": "stdout",
     "output_type": "stream",
     "text": [
      "https://www.google.co.in/imghp?hl=en&tab=wi\n",
      "https://maps.google.co.in/maps?hl=en&tab=wl\n",
      "https://play.google.com/?hl=en&tab=w8\n",
      "https://www.youtube.com/?gl=IN&tab=w1\n",
      "https://news.google.co.in/nwshp?hl=en&tab=wn\n",
      "https://mail.google.com/mail/?tab=wm\n",
      "https://drive.google.com/?tab=wo\n",
      "https://www.google.co.in/intl/en/about/products?tab=wh\n",
      "http://www.google.co.in/history/optout?hl=en\n",
      "/preferences?hl=en\n",
      "https://accounts.google.com/ServiceLogin?hl=en&passive=true&continue=https://www.google.com/\n",
      "/advanced_search?hl=en-IN&authuser=0\n",
      "https://www.google.com/setprefs?sig=0_DyJO2ajdRuP__cDJ64ncAUdnFEU%3D&hl=hi&source=homepage&sa=X&ved=0ahUKEwjY2Ya_qfTpAhWbzTgGHaJNA9gQ2ZgBCAU\n",
      "https://www.google.com/setprefs?sig=0_DyJO2ajdRuP__cDJ64ncAUdnFEU%3D&hl=bn&source=homepage&sa=X&ved=0ahUKEwjY2Ya_qfTpAhWbzTgGHaJNA9gQ2ZgBCAY\n",
      "https://www.google.com/setprefs?sig=0_DyJO2ajdRuP__cDJ64ncAUdnFEU%3D&hl=te&source=homepage&sa=X&ved=0ahUKEwjY2Ya_qfTpAhWbzTgGHaJNA9gQ2ZgBCAc\n",
      "https://www.google.com/setprefs?sig=0_DyJO2ajdRuP__cDJ64ncAUdnFEU%3D&hl=mr&source=homepage&sa=X&ved=0ahUKEwjY2Ya_qfTpAhWbzTgGHaJNA9gQ2ZgBCAg\n",
      "https://www.google.com/setprefs?sig=0_DyJO2ajdRuP__cDJ64ncAUdnFEU%3D&hl=ta&source=homepage&sa=X&ved=0ahUKEwjY2Ya_qfTpAhWbzTgGHaJNA9gQ2ZgBCAk\n",
      "https://www.google.com/setprefs?sig=0_DyJO2ajdRuP__cDJ64ncAUdnFEU%3D&hl=gu&source=homepage&sa=X&ved=0ahUKEwjY2Ya_qfTpAhWbzTgGHaJNA9gQ2ZgBCAo\n",
      "https://www.google.com/setprefs?sig=0_DyJO2ajdRuP__cDJ64ncAUdnFEU%3D&hl=kn&source=homepage&sa=X&ved=0ahUKEwjY2Ya_qfTpAhWbzTgGHaJNA9gQ2ZgBCAs\n",
      "https://www.google.com/setprefs?sig=0_DyJO2ajdRuP__cDJ64ncAUdnFEU%3D&hl=ml&source=homepage&sa=X&ved=0ahUKEwjY2Ya_qfTpAhWbzTgGHaJNA9gQ2ZgBCAw\n",
      "https://www.google.com/setprefs?sig=0_DyJO2ajdRuP__cDJ64ncAUdnFEU%3D&hl=pa&source=homepage&sa=X&ved=0ahUKEwjY2Ya_qfTpAhWbzTgGHaJNA9gQ2ZgBCA0\n",
      "/intl/en/ads/\n",
      "http://www.google.co.in/services/\n",
      "/intl/en/about.html\n",
      "https://www.google.com/setprefdomain?prefdom=IN&prev=https://www.google.co.in/&sig=K_I3c2CLilbJcMF1GM-LSUMts19d4%3D\n",
      "/intl/en/policies/privacy/\n",
      "/intl/en/policies/terms/\n"
     ]
    }
   ],
   "source": [
    "for link in links:\n",
    "    print(link.get('href'))"
   ]
  },
  {
   "cell_type": "code",
   "execution_count": 45,
   "metadata": {},
   "outputs": [
    {
     "data": {
      "text/plain": [
       "<a class=\"gb1\" href=\"https://www.google.co.in/imghp?hl=en&amp;tab=wi\">Images</a>"
      ]
     },
     "execution_count": 45,
     "metadata": {},
     "output_type": "execute_result"
    }
   ],
   "source": [
    "soup.find('a')"
   ]
  },
  {
   "cell_type": "code",
   "execution_count": 48,
   "metadata": {},
   "outputs": [
    {
     "data": {
      "text/plain": [
       "[<a class=\"gb1\" href=\"https://www.google.co.in/imghp?hl=en&amp;tab=wi\">Images</a>,\n",
       " <a class=\"gb1\" href=\"https://maps.google.co.in/maps?hl=en&amp;tab=wl\">Maps</a>,\n",
       " <a class=\"gb1\" href=\"https://play.google.com/?hl=en&amp;tab=w8\">Play</a>,\n",
       " <a class=\"gb1\" href=\"https://www.youtube.com/?gl=IN&amp;tab=w1\">YouTube</a>,\n",
       " <a class=\"gb1\" href=\"https://news.google.co.in/nwshp?hl=en&amp;tab=wn\">News</a>,\n",
       " <a class=\"gb1\" href=\"https://mail.google.com/mail/?tab=wm\">Gmail</a>,\n",
       " <a class=\"gb1\" href=\"https://drive.google.com/?tab=wo\">Drive</a>,\n",
       " <a class=\"gb1\" href=\"https://www.google.co.in/intl/en/about/products?tab=wh\" style=\"text-decoration:none\"><u>More</u> »</a>,\n",
       " <a class=\"gb4\" href=\"http://www.google.co.in/history/optout?hl=en\">Web History</a>,\n",
       " <a class=\"gb4\" href=\"/preferences?hl=en\">Settings</a>,\n",
       " <a class=\"gb4\" href=\"https://accounts.google.com/ServiceLogin?hl=en&amp;passive=true&amp;continue=https://www.google.com/\" id=\"gb_70\" target=\"_top\">Sign in</a>,\n",
       " <a href=\"/advanced_search?hl=en-IN&amp;authuser=0\">Advanced search</a>,\n",
       " <a href=\"https://www.google.com/setprefs?sig=0_DyJO2ajdRuP__cDJ64ncAUdnFEU%3D&amp;hl=hi&amp;source=homepage&amp;sa=X&amp;ved=0ahUKEwjY2Ya_qfTpAhWbzTgGHaJNA9gQ2ZgBCAU\">हिन्दी</a>,\n",
       " <a href=\"https://www.google.com/setprefs?sig=0_DyJO2ajdRuP__cDJ64ncAUdnFEU%3D&amp;hl=bn&amp;source=homepage&amp;sa=X&amp;ved=0ahUKEwjY2Ya_qfTpAhWbzTgGHaJNA9gQ2ZgBCAY\">বাংলা</a>,\n",
       " <a href=\"https://www.google.com/setprefs?sig=0_DyJO2ajdRuP__cDJ64ncAUdnFEU%3D&amp;hl=te&amp;source=homepage&amp;sa=X&amp;ved=0ahUKEwjY2Ya_qfTpAhWbzTgGHaJNA9gQ2ZgBCAc\">తెలుగు</a>,\n",
       " <a href=\"https://www.google.com/setprefs?sig=0_DyJO2ajdRuP__cDJ64ncAUdnFEU%3D&amp;hl=mr&amp;source=homepage&amp;sa=X&amp;ved=0ahUKEwjY2Ya_qfTpAhWbzTgGHaJNA9gQ2ZgBCAg\">मराठी</a>,\n",
       " <a href=\"https://www.google.com/setprefs?sig=0_DyJO2ajdRuP__cDJ64ncAUdnFEU%3D&amp;hl=ta&amp;source=homepage&amp;sa=X&amp;ved=0ahUKEwjY2Ya_qfTpAhWbzTgGHaJNA9gQ2ZgBCAk\">தமிழ்</a>,\n",
       " <a href=\"https://www.google.com/setprefs?sig=0_DyJO2ajdRuP__cDJ64ncAUdnFEU%3D&amp;hl=gu&amp;source=homepage&amp;sa=X&amp;ved=0ahUKEwjY2Ya_qfTpAhWbzTgGHaJNA9gQ2ZgBCAo\">ગુજરાતી</a>,\n",
       " <a href=\"https://www.google.com/setprefs?sig=0_DyJO2ajdRuP__cDJ64ncAUdnFEU%3D&amp;hl=kn&amp;source=homepage&amp;sa=X&amp;ved=0ahUKEwjY2Ya_qfTpAhWbzTgGHaJNA9gQ2ZgBCAs\">ಕನ್ನಡ</a>,\n",
       " <a href=\"https://www.google.com/setprefs?sig=0_DyJO2ajdRuP__cDJ64ncAUdnFEU%3D&amp;hl=ml&amp;source=homepage&amp;sa=X&amp;ved=0ahUKEwjY2Ya_qfTpAhWbzTgGHaJNA9gQ2ZgBCAw\">മലയാളം</a>,\n",
       " <a href=\"https://www.google.com/setprefs?sig=0_DyJO2ajdRuP__cDJ64ncAUdnFEU%3D&amp;hl=pa&amp;source=homepage&amp;sa=X&amp;ved=0ahUKEwjY2Ya_qfTpAhWbzTgGHaJNA9gQ2ZgBCA0\">ਪੰਜਾਬੀ</a>,\n",
       " <a href=\"/intl/en/ads/\">Advertising Programs</a>,\n",
       " <a href=\"http://www.google.co.in/services/\">Business Solutions</a>,\n",
       " <a href=\"/intl/en/about.html\">About Google</a>,\n",
       " <a href=\"https://www.google.com/setprefdomain?prefdom=IN&amp;prev=https://www.google.co.in/&amp;sig=K_I3c2CLilbJcMF1GM-LSUMts19d4%3D\">Google.co.in</a>,\n",
       " <a href=\"/intl/en/policies/privacy/\">Privacy</a>,\n",
       " <a href=\"/intl/en/policies/terms/\">Terms</a>]"
      ]
     },
     "execution_count": 48,
     "metadata": {},
     "output_type": "execute_result"
    }
   ],
   "source": [
    "soup.find_all('a')"
   ]
  },
  {
   "cell_type": "code",
   "execution_count": 75,
   "metadata": {},
   "outputs": [
    {
     "data": {
      "text/plain": [
       "'Srikanth'"
      ]
     },
     "execution_count": 75,
     "metadata": {},
     "output_type": "execute_result"
    }
   ],
   "source": [
    "links[0].string.replace_with('Srikanth')"
   ]
  },
  {
   "cell_type": "code",
   "execution_count": 76,
   "metadata": {},
   "outputs": [
    {
     "data": {
      "text/plain": [
       "<a class=\"gb1\" href=\"https://www.google.co.in/imghp?hl=en&amp;tab=wi\">Srikanth</a>"
      ]
     },
     "execution_count": 76,
     "metadata": {},
     "output_type": "execute_result"
    }
   ],
   "source": [
    "links[0]"
   ]
  },
  {
   "cell_type": "code",
   "execution_count": null,
   "metadata": {},
   "outputs": [],
   "source": [
    "# To keep things simple and also reproducible, consider the following HTML code\n",
    "html_doc = \"\"\"\n",
    "<html><head><title>The Dormouse's story</title></head>\n",
    "<body>\n",
    "<p class=\"title\"><b>The Dormouse's story</b></p>\n",
    "<p class=\"story\">Once upon a time there were three little sisters; their names:\n",
    "<a href=\"http://example.com/elsie\" class=\"sister\" id=\"link1\">Elsie</a>,\n",
    "<a href=\"http://example.com/lacie\" class=\"sister\" id=\"link2\">Lacie</a> and\n",
    "<a href=\"http://example.com/tillie\" class=\"sister\" id=\"link3\">Tillie</a>;\n",
    "and they lived at the bottom of a well.</p>\n",
    "<p class=\"story\">...</p>\n",
    "<b class=\"boldest\">Extremely bold</b>\n",
    "<blockquote class=\"boldest\">Extremely bold</blockquote>\n",
    "<b id=\"1\">Test 1</b>\n",
    "<b another-attribute=\"1\" id=\"verybold\">Test 2</b>\n",
    "\"\"\"\n",
    "\n",
    "\n",
    "with open('index.html', 'w') as f:\n",
    "    f.write(html_doc)\n",
    "\n",
    "soup = BeautifulSoup(html_doc, \"lxml\")\n",
    "\n",
    "print(soup.prettify())\n",
    "\n",
    "# Tag:\n",
    "\n",
    "# Finds the first occurrence of usage for a \"b\"\n",
    "# bold tag.\n",
    "print(soup.b)\n",
    "\n",
    "# The \"find\" function also does the same, where it\n",
    "# only finds the first occurrence in the HTML doc\n",
    "# of a tag with \"b\".\n",
    "print(soup.find('b'))\n",
    "\n",
    "# If we want to find all of the elements on the page\n",
    "# with the \"b\" tag, we can use the \"find_all\" function.\n",
    "print(soup.find_all('b'))\n",
    "\n",
    "# Name:\n",
    "\n",
    "# This gives the name of the tag. In this case, the \n",
    "# tag name is \"b\".\n",
    "print(soup.b.name)\n",
    "\n",
    "# We can alter the name and have that reflected in the\n",
    "# source. For instance:\n",
    "tag = soup.b\n",
    "print(tag)\n",
    "tag.name = \"blockquote\"\n",
    "print(tag)\n",
    "\n",
    "# Attributes:\n",
    "\n",
    "tag = soup.find_all('b')[2]\n",
    "print(tag)\n",
    "\n",
    "# This specific tag has the attribute \"id\", which\n",
    "# can be accessed like so:\n",
    "print(tag['id'])\n",
    "\n",
    "tag = soup.find_all('b')[3]\n",
    "print(tag)\n",
    "\n",
    "# We can even access multiple attributes that are\n",
    "# non-standard HTML attributes:\n",
    "print(tag['id'])\n",
    "print(tag['another-attribute'])\n",
    "\n",
    "# If we want to see all attributes, we can access them\n",
    "# as a dictionary object:\n",
    "tag = soup.find_all('b')[3]\n",
    "print(tag)\n",
    "\n",
    "print(tag.attrs)\n",
    "\n",
    "# These properties are mutable, and we can alter them\n",
    "# in the following manner.\n",
    "print(tag)\n",
    "tag['another-attribute'] = 2\n",
    "print(tag)\n",
    "\n",
    "# We can also use Python's del command for lists to\n",
    "# remove attributes:\n",
    "del tag['id']\n",
    "del tag['another-attribute']\n",
    "print(tag)\n",
    "\n",
    "# Multi-valued Attributes\n",
    "tag = soup.find_all('b')[3]\n",
    "print(tag)\n",
    "print(tag.string)\n",
    "\n",
    "# We can use the \"replace_with\" function to replace\n",
    "# the content of the string with something different:\n",
    "tag.string.replace_with(\"This is another string\")\n",
    "print(tag)\n",
    "\n",
    "# NavigableString\n",
    "\n",
    "# BeautifulSoup\n",
    "\n",
    "# Comments"
   ]
  }
 ],
 "metadata": {
  "kernelspec": {
   "display_name": "Python 3",
   "language": "python",
   "name": "python3"
  },
  "language_info": {
   "codemirror_mode": {
    "name": "ipython",
    "version": 3
   },
   "file_extension": ".py",
   "mimetype": "text/x-python",
   "name": "python",
   "nbconvert_exporter": "python",
   "pygments_lexer": "ipython3",
   "version": "3.7.4"
  }
 },
 "nbformat": 4,
 "nbformat_minor": 2
}
